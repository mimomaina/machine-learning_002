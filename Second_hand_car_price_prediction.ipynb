{
  "nbformat": 4,
  "nbformat_minor": 0,
  "metadata": {
    "colab": {
      "provenance": [],
      "toc_visible": true,
      "authorship_tag": "ABX9TyO25d6IOBcZVrr8O9B6M5P1",
      "include_colab_link": true
    },
    "kernelspec": {
      "name": "python3",
      "display_name": "Python 3"
    },
    "language_info": {
      "name": "python"
    }
  },
  "cells": [
    {
      "cell_type": "markdown",
      "metadata": {
        "id": "view-in-github",
        "colab_type": "text"
      },
      "source": [
        "<a href=\"https://colab.research.google.com/github/mimomaina/machine-learning_002/blob/main/Second_hand_car_price_prediction.ipynb\" target=\"_parent\"><img src=\"https://colab.research.google.com/assets/colab-badge.svg\" alt=\"Open In Colab\"/></a>"
      ]
    },
    {
      "cell_type": "code",
      "execution_count": 46,
      "metadata": {
        "id": "j8t9WMLJjpdQ"
      },
      "outputs": [],
      "source": [
        "import pandas as pd\n",
        "import numpy as np"
      ]
    },
    {
      "cell_type": "code",
      "source": [
        "df = pd.read_csv('/content/second_hand_cars.csv')\n",
        "df.info()"
      ],
      "metadata": {
        "colab": {
          "base_uri": "https://localhost:8080/"
        },
        "id": "ynhWQyRfkKzT",
        "outputId": "96ff580a-bd3e-4c06-819a-b1ca2ee93bf2"
      },
      "execution_count": 47,
      "outputs": [
        {
          "output_type": "stream",
          "name": "stdout",
          "text": [
            "<class 'pandas.core.frame.DataFrame'>\n",
            "RangeIndex: 2500 entries, 0 to 2499\n",
            "Data columns (total 16 columns):\n",
            " #   Column                    Non-Null Count  Dtype \n",
            "---  ------                    --------------  ----- \n",
            " 0   Company Name              2500 non-null   object\n",
            " 1   Car Name                  2500 non-null   object\n",
            " 2   Variant                   2238 non-null   object\n",
            " 3   Fuel Type                 2500 non-null   object\n",
            " 4   Tyre Condition            2500 non-null   object\n",
            " 5   Make Year                 2500 non-null   int64 \n",
            " 6   Owner Type                2500 non-null   object\n",
            " 7   Registration Number       2500 non-null   object\n",
            " 8   Mileage                   2500 non-null   int64 \n",
            " 9   Price                     2500 non-null   int64 \n",
            " 10  Transmission Type         2500 non-null   object\n",
            " 11  Body Color                2500 non-null   object\n",
            " 12  Service Record            2500 non-null   object\n",
            " 13  Insurance                 2500 non-null   object\n",
            " 14  Registration Certificate  2500 non-null   object\n",
            " 15  Accessories               2018 non-null   object\n",
            "dtypes: int64(3), object(13)\n",
            "memory usage: 312.6+ KB\n"
          ]
        }
      ]
    },
    {
      "cell_type": "code",
      "source": [
        "df.head()"
      ],
      "metadata": {
        "colab": {
          "base_uri": "https://localhost:8080/",
          "height": 538
        },
        "id": "ZMsaLVedpsbd",
        "outputId": "7e1a4db9-0eff-4811-c62d-41fd497891ee"
      },
      "execution_count": 48,
      "outputs": [
        {
          "output_type": "execute_result",
          "data": {
            "text/plain": [
              "    Company Name Car Name   Variant Fuel Type     Tyre Condition  Make Year  \\\n",
              "0  Maruti Suzuki    Cruze        EX       CNG  Needs Replacement       2018   \n",
              "1            Kia   Seltos       RXE    Petrol                New       2020   \n",
              "2            Kia   Accord       RXE    Petrol                New       2022   \n",
              "3         Nissan   Seltos  Highline    Diesel               Used       2024   \n",
              "4      Chevrolet     Kwid  Highline    Petrol               Used       2018   \n",
              "\n",
              "  Owner Type Registration Number  Mileage   Price      Transmission Type  \\\n",
              "0     Second         84-436-5584    52798  759107                 Manual   \n",
              "1      Third         79-114-3166    43412  505071              Automatic   \n",
              "2     Second         41-358-3344    95219  635322  Automatic (Tiptronic)   \n",
              "3      Third         92-708-1763    70370  483152  Automatic (Tiptronic)   \n",
              "4     Second         76-154-5485    85852  712961  Automatic (Tiptronic)   \n",
              "\n",
              "  Body Color              Service Record             Insurance  \\\n",
              "0       Grey   Major Service at 50418 km  No Current Insurance   \n",
              "1     Maroon  Major Service at 131313 km  No Current Insurance   \n",
              "2      Black           No Service Record  No Current Insurance   \n",
              "3     Maroon   Major Service at 98115 km    Valid Until [date]   \n",
              "4     Silver  Major Service at 135665 km  No Current Insurance   \n",
              "\n",
              "  Registration Certificate                          Accessories  \n",
              "0            Not Available  Music System, Sunroof, Alloy Wheels  \n",
              "1                Available                                  NaN  \n",
              "2                Available                                  NaN  \n",
              "3                Available           Music System, Alloy Wheels  \n",
              "4            Not Available                    GPS, Music System  "
            ],
            "text/html": [
              "\n",
              "  <div id=\"df-05ee8e02-89d1-4636-8551-b64962e49adb\" class=\"colab-df-container\">\n",
              "    <div>\n",
              "<style scoped>\n",
              "    .dataframe tbody tr th:only-of-type {\n",
              "        vertical-align: middle;\n",
              "    }\n",
              "\n",
              "    .dataframe tbody tr th {\n",
              "        vertical-align: top;\n",
              "    }\n",
              "\n",
              "    .dataframe thead th {\n",
              "        text-align: right;\n",
              "    }\n",
              "</style>\n",
              "<table border=\"1\" class=\"dataframe\">\n",
              "  <thead>\n",
              "    <tr style=\"text-align: right;\">\n",
              "      <th></th>\n",
              "      <th>Company Name</th>\n",
              "      <th>Car Name</th>\n",
              "      <th>Variant</th>\n",
              "      <th>Fuel Type</th>\n",
              "      <th>Tyre Condition</th>\n",
              "      <th>Make Year</th>\n",
              "      <th>Owner Type</th>\n",
              "      <th>Registration Number</th>\n",
              "      <th>Mileage</th>\n",
              "      <th>Price</th>\n",
              "      <th>Transmission Type</th>\n",
              "      <th>Body Color</th>\n",
              "      <th>Service Record</th>\n",
              "      <th>Insurance</th>\n",
              "      <th>Registration Certificate</th>\n",
              "      <th>Accessories</th>\n",
              "    </tr>\n",
              "  </thead>\n",
              "  <tbody>\n",
              "    <tr>\n",
              "      <th>0</th>\n",
              "      <td>Maruti Suzuki</td>\n",
              "      <td>Cruze</td>\n",
              "      <td>EX</td>\n",
              "      <td>CNG</td>\n",
              "      <td>Needs Replacement</td>\n",
              "      <td>2018</td>\n",
              "      <td>Second</td>\n",
              "      <td>84-436-5584</td>\n",
              "      <td>52798</td>\n",
              "      <td>759107</td>\n",
              "      <td>Manual</td>\n",
              "      <td>Grey</td>\n",
              "      <td>Major Service at 50418 km</td>\n",
              "      <td>No Current Insurance</td>\n",
              "      <td>Not Available</td>\n",
              "      <td>Music System, Sunroof, Alloy Wheels</td>\n",
              "    </tr>\n",
              "    <tr>\n",
              "      <th>1</th>\n",
              "      <td>Kia</td>\n",
              "      <td>Seltos</td>\n",
              "      <td>RXE</td>\n",
              "      <td>Petrol</td>\n",
              "      <td>New</td>\n",
              "      <td>2020</td>\n",
              "      <td>Third</td>\n",
              "      <td>79-114-3166</td>\n",
              "      <td>43412</td>\n",
              "      <td>505071</td>\n",
              "      <td>Automatic</td>\n",
              "      <td>Maroon</td>\n",
              "      <td>Major Service at 131313 km</td>\n",
              "      <td>No Current Insurance</td>\n",
              "      <td>Available</td>\n",
              "      <td>NaN</td>\n",
              "    </tr>\n",
              "    <tr>\n",
              "      <th>2</th>\n",
              "      <td>Kia</td>\n",
              "      <td>Accord</td>\n",
              "      <td>RXE</td>\n",
              "      <td>Petrol</td>\n",
              "      <td>New</td>\n",
              "      <td>2022</td>\n",
              "      <td>Second</td>\n",
              "      <td>41-358-3344</td>\n",
              "      <td>95219</td>\n",
              "      <td>635322</td>\n",
              "      <td>Automatic (Tiptronic)</td>\n",
              "      <td>Black</td>\n",
              "      <td>No Service Record</td>\n",
              "      <td>No Current Insurance</td>\n",
              "      <td>Available</td>\n",
              "      <td>NaN</td>\n",
              "    </tr>\n",
              "    <tr>\n",
              "      <th>3</th>\n",
              "      <td>Nissan</td>\n",
              "      <td>Seltos</td>\n",
              "      <td>Highline</td>\n",
              "      <td>Diesel</td>\n",
              "      <td>Used</td>\n",
              "      <td>2024</td>\n",
              "      <td>Third</td>\n",
              "      <td>92-708-1763</td>\n",
              "      <td>70370</td>\n",
              "      <td>483152</td>\n",
              "      <td>Automatic (Tiptronic)</td>\n",
              "      <td>Maroon</td>\n",
              "      <td>Major Service at 98115 km</td>\n",
              "      <td>Valid Until [date]</td>\n",
              "      <td>Available</td>\n",
              "      <td>Music System, Alloy Wheels</td>\n",
              "    </tr>\n",
              "    <tr>\n",
              "      <th>4</th>\n",
              "      <td>Chevrolet</td>\n",
              "      <td>Kwid</td>\n",
              "      <td>Highline</td>\n",
              "      <td>Petrol</td>\n",
              "      <td>Used</td>\n",
              "      <td>2018</td>\n",
              "      <td>Second</td>\n",
              "      <td>76-154-5485</td>\n",
              "      <td>85852</td>\n",
              "      <td>712961</td>\n",
              "      <td>Automatic (Tiptronic)</td>\n",
              "      <td>Silver</td>\n",
              "      <td>Major Service at 135665 km</td>\n",
              "      <td>No Current Insurance</td>\n",
              "      <td>Not Available</td>\n",
              "      <td>GPS, Music System</td>\n",
              "    </tr>\n",
              "  </tbody>\n",
              "</table>\n",
              "</div>\n",
              "    <div class=\"colab-df-buttons\">\n",
              "\n",
              "  <div class=\"colab-df-container\">\n",
              "    <button class=\"colab-df-convert\" onclick=\"convertToInteractive('df-05ee8e02-89d1-4636-8551-b64962e49adb')\"\n",
              "            title=\"Convert this dataframe to an interactive table.\"\n",
              "            style=\"display:none;\">\n",
              "\n",
              "  <svg xmlns=\"http://www.w3.org/2000/svg\" height=\"24px\" viewBox=\"0 -960 960 960\">\n",
              "    <path d=\"M120-120v-720h720v720H120Zm60-500h600v-160H180v160Zm220 220h160v-160H400v160Zm0 220h160v-160H400v160ZM180-400h160v-160H180v160Zm440 0h160v-160H620v160ZM180-180h160v-160H180v160Zm440 0h160v-160H620v160Z\"/>\n",
              "  </svg>\n",
              "    </button>\n",
              "\n",
              "  <style>\n",
              "    .colab-df-container {\n",
              "      display:flex;\n",
              "      gap: 12px;\n",
              "    }\n",
              "\n",
              "    .colab-df-convert {\n",
              "      background-color: #E8F0FE;\n",
              "      border: none;\n",
              "      border-radius: 50%;\n",
              "      cursor: pointer;\n",
              "      display: none;\n",
              "      fill: #1967D2;\n",
              "      height: 32px;\n",
              "      padding: 0 0 0 0;\n",
              "      width: 32px;\n",
              "    }\n",
              "\n",
              "    .colab-df-convert:hover {\n",
              "      background-color: #E2EBFA;\n",
              "      box-shadow: 0px 1px 2px rgba(60, 64, 67, 0.3), 0px 1px 3px 1px rgba(60, 64, 67, 0.15);\n",
              "      fill: #174EA6;\n",
              "    }\n",
              "\n",
              "    .colab-df-buttons div {\n",
              "      margin-bottom: 4px;\n",
              "    }\n",
              "\n",
              "    [theme=dark] .colab-df-convert {\n",
              "      background-color: #3B4455;\n",
              "      fill: #D2E3FC;\n",
              "    }\n",
              "\n",
              "    [theme=dark] .colab-df-convert:hover {\n",
              "      background-color: #434B5C;\n",
              "      box-shadow: 0px 1px 3px 1px rgba(0, 0, 0, 0.15);\n",
              "      filter: drop-shadow(0px 1px 2px rgba(0, 0, 0, 0.3));\n",
              "      fill: #FFFFFF;\n",
              "    }\n",
              "  </style>\n",
              "\n",
              "    <script>\n",
              "      const buttonEl =\n",
              "        document.querySelector('#df-05ee8e02-89d1-4636-8551-b64962e49adb button.colab-df-convert');\n",
              "      buttonEl.style.display =\n",
              "        google.colab.kernel.accessAllowed ? 'block' : 'none';\n",
              "\n",
              "      async function convertToInteractive(key) {\n",
              "        const element = document.querySelector('#df-05ee8e02-89d1-4636-8551-b64962e49adb');\n",
              "        const dataTable =\n",
              "          await google.colab.kernel.invokeFunction('convertToInteractive',\n",
              "                                                    [key], {});\n",
              "        if (!dataTable) return;\n",
              "\n",
              "        const docLinkHtml = 'Like what you see? Visit the ' +\n",
              "          '<a target=\"_blank\" href=https://colab.research.google.com/notebooks/data_table.ipynb>data table notebook</a>'\n",
              "          + ' to learn more about interactive tables.';\n",
              "        element.innerHTML = '';\n",
              "        dataTable['output_type'] = 'display_data';\n",
              "        await google.colab.output.renderOutput(dataTable, element);\n",
              "        const docLink = document.createElement('div');\n",
              "        docLink.innerHTML = docLinkHtml;\n",
              "        element.appendChild(docLink);\n",
              "      }\n",
              "    </script>\n",
              "  </div>\n",
              "\n",
              "\n",
              "<div id=\"df-5dd8d586-d64d-4659-aaa0-0839a7ab3c0a\">\n",
              "  <button class=\"colab-df-quickchart\" onclick=\"quickchart('df-5dd8d586-d64d-4659-aaa0-0839a7ab3c0a')\"\n",
              "            title=\"Suggest charts\"\n",
              "            style=\"display:none;\">\n",
              "\n",
              "<svg xmlns=\"http://www.w3.org/2000/svg\" height=\"24px\"viewBox=\"0 0 24 24\"\n",
              "     width=\"24px\">\n",
              "    <g>\n",
              "        <path d=\"M19 3H5c-1.1 0-2 .9-2 2v14c0 1.1.9 2 2 2h14c1.1 0 2-.9 2-2V5c0-1.1-.9-2-2-2zM9 17H7v-7h2v7zm4 0h-2V7h2v10zm4 0h-2v-4h2v4z\"/>\n",
              "    </g>\n",
              "</svg>\n",
              "  </button>\n",
              "\n",
              "<style>\n",
              "  .colab-df-quickchart {\n",
              "      --bg-color: #E8F0FE;\n",
              "      --fill-color: #1967D2;\n",
              "      --hover-bg-color: #E2EBFA;\n",
              "      --hover-fill-color: #174EA6;\n",
              "      --disabled-fill-color: #AAA;\n",
              "      --disabled-bg-color: #DDD;\n",
              "  }\n",
              "\n",
              "  [theme=dark] .colab-df-quickchart {\n",
              "      --bg-color: #3B4455;\n",
              "      --fill-color: #D2E3FC;\n",
              "      --hover-bg-color: #434B5C;\n",
              "      --hover-fill-color: #FFFFFF;\n",
              "      --disabled-bg-color: #3B4455;\n",
              "      --disabled-fill-color: #666;\n",
              "  }\n",
              "\n",
              "  .colab-df-quickchart {\n",
              "    background-color: var(--bg-color);\n",
              "    border: none;\n",
              "    border-radius: 50%;\n",
              "    cursor: pointer;\n",
              "    display: none;\n",
              "    fill: var(--fill-color);\n",
              "    height: 32px;\n",
              "    padding: 0;\n",
              "    width: 32px;\n",
              "  }\n",
              "\n",
              "  .colab-df-quickchart:hover {\n",
              "    background-color: var(--hover-bg-color);\n",
              "    box-shadow: 0 1px 2px rgba(60, 64, 67, 0.3), 0 1px 3px 1px rgba(60, 64, 67, 0.15);\n",
              "    fill: var(--button-hover-fill-color);\n",
              "  }\n",
              "\n",
              "  .colab-df-quickchart-complete:disabled,\n",
              "  .colab-df-quickchart-complete:disabled:hover {\n",
              "    background-color: var(--disabled-bg-color);\n",
              "    fill: var(--disabled-fill-color);\n",
              "    box-shadow: none;\n",
              "  }\n",
              "\n",
              "  .colab-df-spinner {\n",
              "    border: 2px solid var(--fill-color);\n",
              "    border-color: transparent;\n",
              "    border-bottom-color: var(--fill-color);\n",
              "    animation:\n",
              "      spin 1s steps(1) infinite;\n",
              "  }\n",
              "\n",
              "  @keyframes spin {\n",
              "    0% {\n",
              "      border-color: transparent;\n",
              "      border-bottom-color: var(--fill-color);\n",
              "      border-left-color: var(--fill-color);\n",
              "    }\n",
              "    20% {\n",
              "      border-color: transparent;\n",
              "      border-left-color: var(--fill-color);\n",
              "      border-top-color: var(--fill-color);\n",
              "    }\n",
              "    30% {\n",
              "      border-color: transparent;\n",
              "      border-left-color: var(--fill-color);\n",
              "      border-top-color: var(--fill-color);\n",
              "      border-right-color: var(--fill-color);\n",
              "    }\n",
              "    40% {\n",
              "      border-color: transparent;\n",
              "      border-right-color: var(--fill-color);\n",
              "      border-top-color: var(--fill-color);\n",
              "    }\n",
              "    60% {\n",
              "      border-color: transparent;\n",
              "      border-right-color: var(--fill-color);\n",
              "    }\n",
              "    80% {\n",
              "      border-color: transparent;\n",
              "      border-right-color: var(--fill-color);\n",
              "      border-bottom-color: var(--fill-color);\n",
              "    }\n",
              "    90% {\n",
              "      border-color: transparent;\n",
              "      border-bottom-color: var(--fill-color);\n",
              "    }\n",
              "  }\n",
              "</style>\n",
              "\n",
              "  <script>\n",
              "    async function quickchart(key) {\n",
              "      const quickchartButtonEl =\n",
              "        document.querySelector('#' + key + ' button');\n",
              "      quickchartButtonEl.disabled = true;  // To prevent multiple clicks.\n",
              "      quickchartButtonEl.classList.add('colab-df-spinner');\n",
              "      try {\n",
              "        const charts = await google.colab.kernel.invokeFunction(\n",
              "            'suggestCharts', [key], {});\n",
              "      } catch (error) {\n",
              "        console.error('Error during call to suggestCharts:', error);\n",
              "      }\n",
              "      quickchartButtonEl.classList.remove('colab-df-spinner');\n",
              "      quickchartButtonEl.classList.add('colab-df-quickchart-complete');\n",
              "    }\n",
              "    (() => {\n",
              "      let quickchartButtonEl =\n",
              "        document.querySelector('#df-5dd8d586-d64d-4659-aaa0-0839a7ab3c0a button');\n",
              "      quickchartButtonEl.style.display =\n",
              "        google.colab.kernel.accessAllowed ? 'block' : 'none';\n",
              "    })();\n",
              "  </script>\n",
              "</div>\n",
              "\n",
              "    </div>\n",
              "  </div>\n"
            ],
            "application/vnd.google.colaboratory.intrinsic+json": {
              "type": "dataframe",
              "variable_name": "df",
              "summary": "{\n  \"name\": \"df\",\n  \"rows\": 2500,\n  \"fields\": [\n    {\n      \"column\": \"Company Name\",\n      \"properties\": {\n        \"dtype\": \"category\",\n        \"num_unique_values\": 10,\n        \"samples\": [\n          \"Hyundai\",\n          \"Kia\",\n          \"Toyota\"\n        ],\n        \"semantic_type\": \"\",\n        \"description\": \"\"\n      }\n    },\n    {\n      \"column\": \"Car Name\",\n      \"properties\": {\n        \"dtype\": \"category\",\n        \"num_unique_values\": 10,\n        \"samples\": [\n          \"Polo\",\n          \"Seltos\",\n          \"F-150\"\n        ],\n        \"semantic_type\": \"\",\n        \"description\": \"\"\n      }\n    },\n    {\n      \"column\": \"Variant\",\n      \"properties\": {\n        \"dtype\": \"category\",\n        \"num_unique_values\": 9,\n        \"samples\": [\n          \"SE\",\n          \"RXE\",\n          \"GT\"\n        ],\n        \"semantic_type\": \"\",\n        \"description\": \"\"\n      }\n    },\n    {\n      \"column\": \"Fuel Type\",\n      \"properties\": {\n        \"dtype\": \"category\",\n        \"num_unique_values\": 3,\n        \"samples\": [\n          \"CNG\",\n          \"Petrol\",\n          \"Diesel\"\n        ],\n        \"semantic_type\": \"\",\n        \"description\": \"\"\n      }\n    },\n    {\n      \"column\": \"Tyre Condition\",\n      \"properties\": {\n        \"dtype\": \"category\",\n        \"num_unique_values\": 3,\n        \"samples\": [\n          \"Needs Replacement\",\n          \"New\",\n          \"Used\"\n        ],\n        \"semantic_type\": \"\",\n        \"description\": \"\"\n      }\n    },\n    {\n      \"column\": \"Make Year\",\n      \"properties\": {\n        \"dtype\": \"number\",\n        \"std\": 2,\n        \"min\": 2015,\n        \"max\": 2024,\n        \"num_unique_values\": 10,\n        \"samples\": [\n          2016,\n          2020,\n          2017\n        ],\n        \"semantic_type\": \"\",\n        \"description\": \"\"\n      }\n    },\n    {\n      \"column\": \"Owner Type\",\n      \"properties\": {\n        \"dtype\": \"category\",\n        \"num_unique_values\": 3,\n        \"samples\": [\n          \"Second\",\n          \"Third\",\n          \"First\"\n        ],\n        \"semantic_type\": \"\",\n        \"description\": \"\"\n      }\n    },\n    {\n      \"column\": \"Registration Number\",\n      \"properties\": {\n        \"dtype\": \"string\",\n        \"num_unique_values\": 2500,\n        \"samples\": [\n          \"94-371-7754\",\n          \"14-869-5259\",\n          \"31-335-5392\"\n        ],\n        \"semantic_type\": \"\",\n        \"description\": \"\"\n      }\n    },\n    {\n      \"column\": \"Mileage\",\n      \"properties\": {\n        \"dtype\": \"number\",\n        \"std\": 55544,\n        \"min\": 10010,\n        \"max\": 199755,\n        \"num_unique_values\": 2483,\n        \"samples\": [\n          48552,\n          155224,\n          105696\n        ],\n        \"semantic_type\": \"\",\n        \"description\": \"\"\n      }\n    },\n    {\n      \"column\": \"Price\",\n      \"properties\": {\n        \"dtype\": \"number\",\n        \"std\": 231056,\n        \"min\": 200176,\n        \"max\": 999826,\n        \"num_unique_values\": 2495,\n        \"samples\": [\n          247499,\n          636025,\n          530543\n        ],\n        \"semantic_type\": \"\",\n        \"description\": \"\"\n      }\n    },\n    {\n      \"column\": \"Transmission Type\",\n      \"properties\": {\n        \"dtype\": \"category\",\n        \"num_unique_values\": 3,\n        \"samples\": [\n          \"Manual\",\n          \"Automatic\",\n          \"Automatic (Tiptronic)\"\n        ],\n        \"semantic_type\": \"\",\n        \"description\": \"\"\n      }\n    },\n    {\n      \"column\": \"Body Color\",\n      \"properties\": {\n        \"dtype\": \"category\",\n        \"num_unique_values\": 8,\n        \"samples\": [\n          \"Maroon\",\n          \"Red\",\n          \"Grey\"\n        ],\n        \"semantic_type\": \"\",\n        \"description\": \"\"\n      }\n    },\n    {\n      \"column\": \"Service Record\",\n      \"properties\": {\n        \"dtype\": \"category\",\n        \"num_unique_values\": 849,\n        \"samples\": [\n          \"Major Service at 111313 km\",\n          \"Major Service at 86706 km\",\n          \"Major Service at 145351 km\"\n        ],\n        \"semantic_type\": \"\",\n        \"description\": \"\"\n      }\n    },\n    {\n      \"column\": \"Insurance\",\n      \"properties\": {\n        \"dtype\": \"category\",\n        \"num_unique_values\": 2,\n        \"samples\": [\n          \"Valid Until [date]\",\n          \"No Current Insurance\"\n        ],\n        \"semantic_type\": \"\",\n        \"description\": \"\"\n      }\n    },\n    {\n      \"column\": \"Registration Certificate\",\n      \"properties\": {\n        \"dtype\": \"category\",\n        \"num_unique_values\": 2,\n        \"samples\": [\n          \"Available\",\n          \"Not Available\"\n        ],\n        \"semantic_type\": \"\",\n        \"description\": \"\"\n      }\n    },\n    {\n      \"column\": \"Accessories\",\n      \"properties\": {\n        \"dtype\": \"category\",\n        \"num_unique_values\": 203,\n        \"samples\": [\n          \"Leather Seats, GPS, Alloy Wheels, Sunroof\",\n          \"Leather Seats\"\n        ],\n        \"semantic_type\": \"\",\n        \"description\": \"\"\n      }\n    }\n  ]\n}"
            }
          },
          "metadata": {},
          "execution_count": 48
        }
      ]
    },
    {
      "cell_type": "markdown",
      "source": [
        "# Data Cleaning"
      ],
      "metadata": {
        "id": "iMhnTWMWknZt"
      }
    },
    {
      "cell_type": "code",
      "source": [
        "#unique values in Variant\n",
        "df['Variant'].unique()"
      ],
      "metadata": {
        "colab": {
          "base_uri": "https://localhost:8080/"
        },
        "id": "Azbw0kgnkTJm",
        "outputId": "7b48a33c-e530-4109-8b1c-cd2b114fe8f5"
      },
      "execution_count": 49,
      "outputs": [
        {
          "output_type": "execute_result",
          "data": {
            "text/plain": [
              "array(['EX', 'RXE', 'Highline', 'LE', nan, 'ZXI', 'GT', 'SL', 'SE', 'XL'],\n",
              "      dtype=object)"
            ]
          },
          "metadata": {},
          "execution_count": 49
        }
      ]
    },
    {
      "cell_type": "code",
      "source": [],
      "metadata": {
        "id": "pCKoqvHVlXeP"
      },
      "execution_count": 49,
      "outputs": []
    },
    {
      "cell_type": "code",
      "source": [
        "#corresponding values in company name and variant\n",
        "df.groupby('Variant')['Company Name'].unique()"
      ],
      "metadata": {
        "colab": {
          "base_uri": "https://localhost:8080/",
          "height": 398
        },
        "id": "JIyDQvI9lFZt",
        "outputId": "915dc90e-7fd0-40bc-cf75-895ea9fb8cb4"
      },
      "execution_count": 50,
      "outputs": [
        {
          "output_type": "execute_result",
          "data": {
            "text/plain": [
              "Variant\n",
              "EX          [Maruti Suzuki, Toyota, Hyundai, Ford, Kia, Ho...\n",
              "GT          [Ford, Nissan, Volkswagen, Toyota, Maruti Suzu...\n",
              "Highline    [Nissan, Chevrolet, Ford, Kia, Maruti Suzuki, ...\n",
              "LE          [Volkswagen, Maruti Suzuki, Honda, Toyota, Kia...\n",
              "RXE         [Kia, Hyundai, Honda, Maruti Suzuki, Renault, ...\n",
              "SE          [Nissan, Kia, Maruti Suzuki, Volkswagen, Renau...\n",
              "SL          [Renault, Volkswagen, Honda, Kia, Hyundai, Toy...\n",
              "XL          [Renault, Volkswagen, Chevrolet, Nissan, Honda...\n",
              "ZXI         [Volkswagen, Renault, Chevrolet, Maruti Suzuki...\n",
              "Name: Company Name, dtype: object"
            ],
            "text/html": [
              "<div>\n",
              "<style scoped>\n",
              "    .dataframe tbody tr th:only-of-type {\n",
              "        vertical-align: middle;\n",
              "    }\n",
              "\n",
              "    .dataframe tbody tr th {\n",
              "        vertical-align: top;\n",
              "    }\n",
              "\n",
              "    .dataframe thead th {\n",
              "        text-align: right;\n",
              "    }\n",
              "</style>\n",
              "<table border=\"1\" class=\"dataframe\">\n",
              "  <thead>\n",
              "    <tr style=\"text-align: right;\">\n",
              "      <th></th>\n",
              "      <th>Company Name</th>\n",
              "    </tr>\n",
              "    <tr>\n",
              "      <th>Variant</th>\n",
              "      <th></th>\n",
              "    </tr>\n",
              "  </thead>\n",
              "  <tbody>\n",
              "    <tr>\n",
              "      <th>EX</th>\n",
              "      <td>[Maruti Suzuki, Toyota, Hyundai, Ford, Kia, Ho...</td>\n",
              "    </tr>\n",
              "    <tr>\n",
              "      <th>GT</th>\n",
              "      <td>[Ford, Nissan, Volkswagen, Toyota, Maruti Suzu...</td>\n",
              "    </tr>\n",
              "    <tr>\n",
              "      <th>Highline</th>\n",
              "      <td>[Nissan, Chevrolet, Ford, Kia, Maruti Suzuki, ...</td>\n",
              "    </tr>\n",
              "    <tr>\n",
              "      <th>LE</th>\n",
              "      <td>[Volkswagen, Maruti Suzuki, Honda, Toyota, Kia...</td>\n",
              "    </tr>\n",
              "    <tr>\n",
              "      <th>RXE</th>\n",
              "      <td>[Kia, Hyundai, Honda, Maruti Suzuki, Renault, ...</td>\n",
              "    </tr>\n",
              "    <tr>\n",
              "      <th>SE</th>\n",
              "      <td>[Nissan, Kia, Maruti Suzuki, Volkswagen, Renau...</td>\n",
              "    </tr>\n",
              "    <tr>\n",
              "      <th>SL</th>\n",
              "      <td>[Renault, Volkswagen, Honda, Kia, Hyundai, Toy...</td>\n",
              "    </tr>\n",
              "    <tr>\n",
              "      <th>XL</th>\n",
              "      <td>[Renault, Volkswagen, Chevrolet, Nissan, Honda...</td>\n",
              "    </tr>\n",
              "    <tr>\n",
              "      <th>ZXI</th>\n",
              "      <td>[Volkswagen, Renault, Chevrolet, Maruti Suzuki...</td>\n",
              "    </tr>\n",
              "  </tbody>\n",
              "</table>\n",
              "</div><br><label><b>dtype:</b> object</label>"
            ]
          },
          "metadata": {},
          "execution_count": 50
        }
      ]
    },
    {
      "cell_type": "code",
      "source": [
        "#variant mode\n",
        "df['Variant'].mode()\n",
        "#fill missing values with mode\n",
        "df['Variant'].fillna(df['Variant'].mode()[0], inplace=True)"
      ],
      "metadata": {
        "colab": {
          "base_uri": "https://localhost:8080/"
        },
        "id": "f4_7XaDPlbYM",
        "outputId": "d83c785f-c72b-4882-b1f9-fbe34619fc37"
      },
      "execution_count": 51,
      "outputs": [
        {
          "output_type": "stream",
          "name": "stderr",
          "text": [
            "<ipython-input-51-81cd10344541>:4: FutureWarning: A value is trying to be set on a copy of a DataFrame or Series through chained assignment using an inplace method.\n",
            "The behavior will change in pandas 3.0. This inplace method will never work because the intermediate object on which we are setting values always behaves as a copy.\n",
            "\n",
            "For example, when doing 'df[col].method(value, inplace=True)', try using 'df.method({col: value}, inplace=True)' or df[col] = df[col].method(value) instead, to perform the operation inplace on the original object.\n",
            "\n",
            "\n",
            "  df['Variant'].fillna(df['Variant'].mode()[0], inplace=True)\n"
          ]
        }
      ]
    },
    {
      "cell_type": "code",
      "source": [
        "#accessories mode\n",
        "df['Accessories'].mode()\n",
        "#fill missing values with mode\n",
        "df['Accessories'].fillna(df['Accessories'].mode()[0], inplace=True)"
      ],
      "metadata": {
        "colab": {
          "base_uri": "https://localhost:8080/"
        },
        "id": "Cr_enccsl6I1",
        "outputId": "b498f369-290a-44e7-b50f-a94d0ea971a0"
      },
      "execution_count": 52,
      "outputs": [
        {
          "output_type": "stream",
          "name": "stderr",
          "text": [
            "<ipython-input-52-929df8bd5aac>:4: FutureWarning: A value is trying to be set on a copy of a DataFrame or Series through chained assignment using an inplace method.\n",
            "The behavior will change in pandas 3.0. This inplace method will never work because the intermediate object on which we are setting values always behaves as a copy.\n",
            "\n",
            "For example, when doing 'df[col].method(value, inplace=True)', try using 'df.method({col: value}, inplace=True)' or df[col] = df[col].method(value) instead, to perform the operation inplace on the original object.\n",
            "\n",
            "\n",
            "  df['Accessories'].fillna(df['Accessories'].mode()[0], inplace=True)\n"
          ]
        }
      ]
    },
    {
      "cell_type": "code",
      "source": [
        "# Drop unnecessary columns\n",
        "df.drop(columns=['Registration Number'], inplace=True)"
      ],
      "metadata": {
        "id": "b8FYPpabmVRy"
      },
      "execution_count": 53,
      "outputs": []
    },
    {
      "cell_type": "code",
      "source": [
        "df.info()"
      ],
      "metadata": {
        "colab": {
          "base_uri": "https://localhost:8080/"
        },
        "id": "tndI0fobmMax",
        "outputId": "9a5033d9-0129-4092-9b4f-f19a85fedd8f"
      },
      "execution_count": 54,
      "outputs": [
        {
          "output_type": "stream",
          "name": "stdout",
          "text": [
            "<class 'pandas.core.frame.DataFrame'>\n",
            "RangeIndex: 2500 entries, 0 to 2499\n",
            "Data columns (total 15 columns):\n",
            " #   Column                    Non-Null Count  Dtype \n",
            "---  ------                    --------------  ----- \n",
            " 0   Company Name              2500 non-null   object\n",
            " 1   Car Name                  2500 non-null   object\n",
            " 2   Variant                   2500 non-null   object\n",
            " 3   Fuel Type                 2500 non-null   object\n",
            " 4   Tyre Condition            2500 non-null   object\n",
            " 5   Make Year                 2500 non-null   int64 \n",
            " 6   Owner Type                2500 non-null   object\n",
            " 7   Mileage                   2500 non-null   int64 \n",
            " 8   Price                     2500 non-null   int64 \n",
            " 9   Transmission Type         2500 non-null   object\n",
            " 10  Body Color                2500 non-null   object\n",
            " 11  Service Record            2500 non-null   object\n",
            " 12  Insurance                 2500 non-null   object\n",
            " 13  Registration Certificate  2500 non-null   object\n",
            " 14  Accessories               2500 non-null   object\n",
            "dtypes: int64(3), object(12)\n",
            "memory usage: 293.1+ KB\n"
          ]
        }
      ]
    },
    {
      "cell_type": "code",
      "source": [],
      "metadata": {
        "id": "YYdBWRa_mPT_"
      },
      "execution_count": 54,
      "outputs": []
    },
    {
      "cell_type": "markdown",
      "source": [
        "# Feature Engineering"
      ],
      "metadata": {
        "id": "iMPhNG7qmb-f"
      }
    },
    {
      "cell_type": "code",
      "source": [
        "from datetime import datetime\n",
        "\n",
        "# Create new features\n",
        "current_year = datetime.now().year\n",
        "df['Car Age'] = current_year - df['Make Year']\n",
        "df['Price per Mile'] = df['Price'] / df['Mileage']\n",
        "\n",
        "# Confirm new features\n",
        "df[['Car Age', 'Price per Mile']].head()\n"
      ],
      "metadata": {
        "colab": {
          "base_uri": "https://localhost:8080/",
          "height": 206
        },
        "id": "NhODjUUvmguw",
        "outputId": "edcde234-10ce-4c2d-b0f2-1fafe6d74fca"
      },
      "execution_count": 55,
      "outputs": [
        {
          "output_type": "execute_result",
          "data": {
            "text/plain": [
              "   Car Age  Price per Mile\n",
              "0        7       14.377571\n",
              "1        5       11.634364\n",
              "2        3        6.672219\n",
              "3        1        6.865880\n",
              "4        7        8.304536"
            ],
            "text/html": [
              "\n",
              "  <div id=\"df-688b73d8-5d78-4702-a6c4-04ccab073b76\" class=\"colab-df-container\">\n",
              "    <div>\n",
              "<style scoped>\n",
              "    .dataframe tbody tr th:only-of-type {\n",
              "        vertical-align: middle;\n",
              "    }\n",
              "\n",
              "    .dataframe tbody tr th {\n",
              "        vertical-align: top;\n",
              "    }\n",
              "\n",
              "    .dataframe thead th {\n",
              "        text-align: right;\n",
              "    }\n",
              "</style>\n",
              "<table border=\"1\" class=\"dataframe\">\n",
              "  <thead>\n",
              "    <tr style=\"text-align: right;\">\n",
              "      <th></th>\n",
              "      <th>Car Age</th>\n",
              "      <th>Price per Mile</th>\n",
              "    </tr>\n",
              "  </thead>\n",
              "  <tbody>\n",
              "    <tr>\n",
              "      <th>0</th>\n",
              "      <td>7</td>\n",
              "      <td>14.377571</td>\n",
              "    </tr>\n",
              "    <tr>\n",
              "      <th>1</th>\n",
              "      <td>5</td>\n",
              "      <td>11.634364</td>\n",
              "    </tr>\n",
              "    <tr>\n",
              "      <th>2</th>\n",
              "      <td>3</td>\n",
              "      <td>6.672219</td>\n",
              "    </tr>\n",
              "    <tr>\n",
              "      <th>3</th>\n",
              "      <td>1</td>\n",
              "      <td>6.865880</td>\n",
              "    </tr>\n",
              "    <tr>\n",
              "      <th>4</th>\n",
              "      <td>7</td>\n",
              "      <td>8.304536</td>\n",
              "    </tr>\n",
              "  </tbody>\n",
              "</table>\n",
              "</div>\n",
              "    <div class=\"colab-df-buttons\">\n",
              "\n",
              "  <div class=\"colab-df-container\">\n",
              "    <button class=\"colab-df-convert\" onclick=\"convertToInteractive('df-688b73d8-5d78-4702-a6c4-04ccab073b76')\"\n",
              "            title=\"Convert this dataframe to an interactive table.\"\n",
              "            style=\"display:none;\">\n",
              "\n",
              "  <svg xmlns=\"http://www.w3.org/2000/svg\" height=\"24px\" viewBox=\"0 -960 960 960\">\n",
              "    <path d=\"M120-120v-720h720v720H120Zm60-500h600v-160H180v160Zm220 220h160v-160H400v160Zm0 220h160v-160H400v160ZM180-400h160v-160H180v160Zm440 0h160v-160H620v160ZM180-180h160v-160H180v160Zm440 0h160v-160H620v160Z\"/>\n",
              "  </svg>\n",
              "    </button>\n",
              "\n",
              "  <style>\n",
              "    .colab-df-container {\n",
              "      display:flex;\n",
              "      gap: 12px;\n",
              "    }\n",
              "\n",
              "    .colab-df-convert {\n",
              "      background-color: #E8F0FE;\n",
              "      border: none;\n",
              "      border-radius: 50%;\n",
              "      cursor: pointer;\n",
              "      display: none;\n",
              "      fill: #1967D2;\n",
              "      height: 32px;\n",
              "      padding: 0 0 0 0;\n",
              "      width: 32px;\n",
              "    }\n",
              "\n",
              "    .colab-df-convert:hover {\n",
              "      background-color: #E2EBFA;\n",
              "      box-shadow: 0px 1px 2px rgba(60, 64, 67, 0.3), 0px 1px 3px 1px rgba(60, 64, 67, 0.15);\n",
              "      fill: #174EA6;\n",
              "    }\n",
              "\n",
              "    .colab-df-buttons div {\n",
              "      margin-bottom: 4px;\n",
              "    }\n",
              "\n",
              "    [theme=dark] .colab-df-convert {\n",
              "      background-color: #3B4455;\n",
              "      fill: #D2E3FC;\n",
              "    }\n",
              "\n",
              "    [theme=dark] .colab-df-convert:hover {\n",
              "      background-color: #434B5C;\n",
              "      box-shadow: 0px 1px 3px 1px rgba(0, 0, 0, 0.15);\n",
              "      filter: drop-shadow(0px 1px 2px rgba(0, 0, 0, 0.3));\n",
              "      fill: #FFFFFF;\n",
              "    }\n",
              "  </style>\n",
              "\n",
              "    <script>\n",
              "      const buttonEl =\n",
              "        document.querySelector('#df-688b73d8-5d78-4702-a6c4-04ccab073b76 button.colab-df-convert');\n",
              "      buttonEl.style.display =\n",
              "        google.colab.kernel.accessAllowed ? 'block' : 'none';\n",
              "\n",
              "      async function convertToInteractive(key) {\n",
              "        const element = document.querySelector('#df-688b73d8-5d78-4702-a6c4-04ccab073b76');\n",
              "        const dataTable =\n",
              "          await google.colab.kernel.invokeFunction('convertToInteractive',\n",
              "                                                    [key], {});\n",
              "        if (!dataTable) return;\n",
              "\n",
              "        const docLinkHtml = 'Like what you see? Visit the ' +\n",
              "          '<a target=\"_blank\" href=https://colab.research.google.com/notebooks/data_table.ipynb>data table notebook</a>'\n",
              "          + ' to learn more about interactive tables.';\n",
              "        element.innerHTML = '';\n",
              "        dataTable['output_type'] = 'display_data';\n",
              "        await google.colab.output.renderOutput(dataTable, element);\n",
              "        const docLink = document.createElement('div');\n",
              "        docLink.innerHTML = docLinkHtml;\n",
              "        element.appendChild(docLink);\n",
              "      }\n",
              "    </script>\n",
              "  </div>\n",
              "\n",
              "\n",
              "<div id=\"df-003d6185-a6c0-4d54-b2d5-c44614ad1958\">\n",
              "  <button class=\"colab-df-quickchart\" onclick=\"quickchart('df-003d6185-a6c0-4d54-b2d5-c44614ad1958')\"\n",
              "            title=\"Suggest charts\"\n",
              "            style=\"display:none;\">\n",
              "\n",
              "<svg xmlns=\"http://www.w3.org/2000/svg\" height=\"24px\"viewBox=\"0 0 24 24\"\n",
              "     width=\"24px\">\n",
              "    <g>\n",
              "        <path d=\"M19 3H5c-1.1 0-2 .9-2 2v14c0 1.1.9 2 2 2h14c1.1 0 2-.9 2-2V5c0-1.1-.9-2-2-2zM9 17H7v-7h2v7zm4 0h-2V7h2v10zm4 0h-2v-4h2v4z\"/>\n",
              "    </g>\n",
              "</svg>\n",
              "  </button>\n",
              "\n",
              "<style>\n",
              "  .colab-df-quickchart {\n",
              "      --bg-color: #E8F0FE;\n",
              "      --fill-color: #1967D2;\n",
              "      --hover-bg-color: #E2EBFA;\n",
              "      --hover-fill-color: #174EA6;\n",
              "      --disabled-fill-color: #AAA;\n",
              "      --disabled-bg-color: #DDD;\n",
              "  }\n",
              "\n",
              "  [theme=dark] .colab-df-quickchart {\n",
              "      --bg-color: #3B4455;\n",
              "      --fill-color: #D2E3FC;\n",
              "      --hover-bg-color: #434B5C;\n",
              "      --hover-fill-color: #FFFFFF;\n",
              "      --disabled-bg-color: #3B4455;\n",
              "      --disabled-fill-color: #666;\n",
              "  }\n",
              "\n",
              "  .colab-df-quickchart {\n",
              "    background-color: var(--bg-color);\n",
              "    border: none;\n",
              "    border-radius: 50%;\n",
              "    cursor: pointer;\n",
              "    display: none;\n",
              "    fill: var(--fill-color);\n",
              "    height: 32px;\n",
              "    padding: 0;\n",
              "    width: 32px;\n",
              "  }\n",
              "\n",
              "  .colab-df-quickchart:hover {\n",
              "    background-color: var(--hover-bg-color);\n",
              "    box-shadow: 0 1px 2px rgba(60, 64, 67, 0.3), 0 1px 3px 1px rgba(60, 64, 67, 0.15);\n",
              "    fill: var(--button-hover-fill-color);\n",
              "  }\n",
              "\n",
              "  .colab-df-quickchart-complete:disabled,\n",
              "  .colab-df-quickchart-complete:disabled:hover {\n",
              "    background-color: var(--disabled-bg-color);\n",
              "    fill: var(--disabled-fill-color);\n",
              "    box-shadow: none;\n",
              "  }\n",
              "\n",
              "  .colab-df-spinner {\n",
              "    border: 2px solid var(--fill-color);\n",
              "    border-color: transparent;\n",
              "    border-bottom-color: var(--fill-color);\n",
              "    animation:\n",
              "      spin 1s steps(1) infinite;\n",
              "  }\n",
              "\n",
              "  @keyframes spin {\n",
              "    0% {\n",
              "      border-color: transparent;\n",
              "      border-bottom-color: var(--fill-color);\n",
              "      border-left-color: var(--fill-color);\n",
              "    }\n",
              "    20% {\n",
              "      border-color: transparent;\n",
              "      border-left-color: var(--fill-color);\n",
              "      border-top-color: var(--fill-color);\n",
              "    }\n",
              "    30% {\n",
              "      border-color: transparent;\n",
              "      border-left-color: var(--fill-color);\n",
              "      border-top-color: var(--fill-color);\n",
              "      border-right-color: var(--fill-color);\n",
              "    }\n",
              "    40% {\n",
              "      border-color: transparent;\n",
              "      border-right-color: var(--fill-color);\n",
              "      border-top-color: var(--fill-color);\n",
              "    }\n",
              "    60% {\n",
              "      border-color: transparent;\n",
              "      border-right-color: var(--fill-color);\n",
              "    }\n",
              "    80% {\n",
              "      border-color: transparent;\n",
              "      border-right-color: var(--fill-color);\n",
              "      border-bottom-color: var(--fill-color);\n",
              "    }\n",
              "    90% {\n",
              "      border-color: transparent;\n",
              "      border-bottom-color: var(--fill-color);\n",
              "    }\n",
              "  }\n",
              "</style>\n",
              "\n",
              "  <script>\n",
              "    async function quickchart(key) {\n",
              "      const quickchartButtonEl =\n",
              "        document.querySelector('#' + key + ' button');\n",
              "      quickchartButtonEl.disabled = true;  // To prevent multiple clicks.\n",
              "      quickchartButtonEl.classList.add('colab-df-spinner');\n",
              "      try {\n",
              "        const charts = await google.colab.kernel.invokeFunction(\n",
              "            'suggestCharts', [key], {});\n",
              "      } catch (error) {\n",
              "        console.error('Error during call to suggestCharts:', error);\n",
              "      }\n",
              "      quickchartButtonEl.classList.remove('colab-df-spinner');\n",
              "      quickchartButtonEl.classList.add('colab-df-quickchart-complete');\n",
              "    }\n",
              "    (() => {\n",
              "      let quickchartButtonEl =\n",
              "        document.querySelector('#df-003d6185-a6c0-4d54-b2d5-c44614ad1958 button');\n",
              "      quickchartButtonEl.style.display =\n",
              "        google.colab.kernel.accessAllowed ? 'block' : 'none';\n",
              "    })();\n",
              "  </script>\n",
              "</div>\n",
              "\n",
              "    </div>\n",
              "  </div>\n"
            ],
            "application/vnd.google.colaboratory.intrinsic+json": {
              "type": "dataframe",
              "summary": "{\n  \"name\": \"df[['Car Age', 'Price per Mile']]\",\n  \"rows\": 5,\n  \"fields\": [\n    {\n      \"column\": \"Car Age\",\n      \"properties\": {\n        \"dtype\": \"number\",\n        \"std\": 2,\n        \"min\": 1,\n        \"max\": 7,\n        \"num_unique_values\": 4,\n        \"samples\": [\n          5,\n          1,\n          7\n        ],\n        \"semantic_type\": \"\",\n        \"description\": \"\"\n      }\n    },\n    {\n      \"column\": \"Price per Mile\",\n      \"properties\": {\n        \"dtype\": \"number\",\n        \"std\": 3.342346953734009,\n        \"min\": 6.672218779865363,\n        \"max\": 14.377571120118187,\n        \"num_unique_values\": 5,\n        \"samples\": [\n          11.634363770386068,\n          8.304535712621721,\n          6.672218779865363\n        ],\n        \"semantic_type\": \"\",\n        \"description\": \"\"\n      }\n    }\n  ]\n}"
            }
          },
          "metadata": {},
          "execution_count": 55
        }
      ]
    },
    {
      "cell_type": "markdown",
      "source": [
        "# Encoding"
      ],
      "metadata": {
        "id": "7NKU3uMwmq5i"
      }
    },
    {
      "cell_type": "code",
      "source": [
        "from sklearn.preprocessing import LabelEncoder, OneHotEncoder, OrdinalEncoder\n"
      ],
      "metadata": {
        "id": "rzs-uddUrgBU"
      },
      "execution_count": 56,
      "outputs": []
    },
    {
      "cell_type": "code",
      "source": [
        "#1. Label Encoding for Company Name and Car Name\n",
        "label_enc = LabelEncoder()\n",
        "df['Company Name'] = label_enc.fit_transform(df['Company Name'])\n",
        "df['Car Name'] = label_enc.fit_transform(df['Car Name'])\n",
        "\n",
        "#2. One-Hot Encoding for Variant, Fuel Type, Transmission Type, and Body Color\n",
        "df = pd.get_dummies(df, columns=['Variant', 'Fuel Type', 'Transmission Type', 'Body Color'], drop_first=True)\n",
        "\n",
        "#3. Ordinal Encoding for Tyre Condition & Owner Type\n",
        "tyre_mapping = {'Needs Replacement': 0, 'Used': 1, 'New': 2}\n",
        "owner_mapping = {'First': 1, 'Second': 2, 'Third': 3}\n",
        "\n",
        "df['Tyre Condition'] = df['Tyre Condition'].map(tyre_mapping)\n",
        "df['Owner Type'] = df['Owner Type'].map(owner_mapping)\n",
        "\n",
        "#5. Extract Service Mileage from Text\n",
        "df['Service Record'] = df['Service Record'].str.extract(r'(\\d+)').astype(float)\n",
        "\n",
        "#6. Binary Encoding for Insurance & Registration Certificate\n",
        "df['Insurance'] = df['Insurance'].apply(lambda x: 0 if 'No Current Insurance' in str(x) else 1)\n",
        "df['Registration Certificate'] = df['Registration Certificate'].apply(lambda x: 1 if x == 'Available' else 0)\n",
        "\n",
        "#7. Multi-Label Binarization for Accessories\n",
        "accessories = ['Music System', 'Sunroof', 'Alloy Wheels', 'GPS', 'Leather Seats']\n",
        "for accessory in accessories:\n",
        "    df[accessory] = df['Accessories'].apply(lambda x: 1 if accessory in str(x) else 0)\n",
        "\n",
        "# Drop the original Accessories column\n",
        "df.drop(columns=['Accessories'], inplace=True)\n"
      ],
      "metadata": {
        "id": "iw7lKqN2q-zV"
      },
      "execution_count": 57,
      "outputs": []
    },
    {
      "cell_type": "markdown",
      "source": [
        "# Feature Scaling"
      ],
      "metadata": {
        "id": "zJ_yiUP_m3jy"
      }
    },
    {
      "cell_type": "code",
      "source": [
        "from sklearn.preprocessing import StandardScaler\n",
        "\n",
        "# Define numerical columns\n",
        "num_cols = ['Make Year', 'Mileage', 'Car Age', 'Price per Mile']\n",
        "\n",
        "# Apply standardization\n",
        "scaler = StandardScaler()\n",
        "df[num_cols] = scaler.fit_transform(df[num_cols])\n",
        "\n",
        "# Confirm scaling\n",
        "df.head()\n",
        "df.info()"
      ],
      "metadata": {
        "colab": {
          "base_uri": "https://localhost:8080/"
        },
        "id": "ZaZYi_wMmvnt",
        "outputId": "df05a158-d6fd-4d10-bcb9-2f29605c1ad1"
      },
      "execution_count": 58,
      "outputs": [
        {
          "output_type": "stream",
          "name": "stdout",
          "text": [
            "<class 'pandas.core.frame.DataFrame'>\n",
            "RangeIndex: 2500 entries, 0 to 2499\n",
            "Data columns (total 36 columns):\n",
            " #   Column                                   Non-Null Count  Dtype  \n",
            "---  ------                                   --------------  -----  \n",
            " 0   Company Name                             2500 non-null   int64  \n",
            " 1   Car Name                                 2500 non-null   int64  \n",
            " 2   Tyre Condition                           2500 non-null   int64  \n",
            " 3   Make Year                                2500 non-null   float64\n",
            " 4   Owner Type                               2500 non-null   int64  \n",
            " 5   Mileage                                  2500 non-null   float64\n",
            " 6   Price                                    2500 non-null   int64  \n",
            " 7   Service Record                           851 non-null    float64\n",
            " 8   Insurance                                2500 non-null   int64  \n",
            " 9   Registration Certificate                 2500 non-null   int64  \n",
            " 10  Car Age                                  2500 non-null   float64\n",
            " 11  Price per Mile                           2500 non-null   float64\n",
            " 12  Variant_GT                               2500 non-null   bool   \n",
            " 13  Variant_Highline                         2500 non-null   bool   \n",
            " 14  Variant_LE                               2500 non-null   bool   \n",
            " 15  Variant_RXE                              2500 non-null   bool   \n",
            " 16  Variant_SE                               2500 non-null   bool   \n",
            " 17  Variant_SL                               2500 non-null   bool   \n",
            " 18  Variant_XL                               2500 non-null   bool   \n",
            " 19  Variant_ZXI                              2500 non-null   bool   \n",
            " 20  Fuel Type_Diesel                         2500 non-null   bool   \n",
            " 21  Fuel Type_Petrol                         2500 non-null   bool   \n",
            " 22  Transmission Type_Automatic (Tiptronic)  2500 non-null   bool   \n",
            " 23  Transmission Type_Manual                 2500 non-null   bool   \n",
            " 24  Body Color_Blue                          2500 non-null   bool   \n",
            " 25  Body Color_Gold                          2500 non-null   bool   \n",
            " 26  Body Color_Grey                          2500 non-null   bool   \n",
            " 27  Body Color_Maroon                        2500 non-null   bool   \n",
            " 28  Body Color_Red                           2500 non-null   bool   \n",
            " 29  Body Color_Silver                        2500 non-null   bool   \n",
            " 30  Body Color_White                         2500 non-null   bool   \n",
            " 31  Music System                             2500 non-null   int64  \n",
            " 32  Sunroof                                  2500 non-null   int64  \n",
            " 33  Alloy Wheels                             2500 non-null   int64  \n",
            " 34  GPS                                      2500 non-null   int64  \n",
            " 35  Leather Seats                            2500 non-null   int64  \n",
            "dtypes: bool(19), float64(5), int64(12)\n",
            "memory usage: 378.5 KB\n"
          ]
        }
      ]
    },
    {
      "cell_type": "code",
      "source": [
        "# from sklearn.preprocessing import StandardScaler\n",
        "\n",
        "# scaler = StandardScaler()\n",
        "# scaler.fit(df[['Price']])  # Fit the scaler on the 'Price' column\n",
        "\n",
        "# # Transform the 'Price' column\n",
        "# df['Price'] = scaler.transform(df[['Price']])\n",
        "\n",
        "# # Reverse transformation\n",
        "# df['Price_original'] = scaler.inverse_transform(df[['Price']])\n"
      ],
      "metadata": {
        "id": "oOpn2h2dm-we"
      },
      "execution_count": 59,
      "outputs": []
    },
    {
      "cell_type": "code",
      "source": [],
      "metadata": {
        "id": "BV3k8TNBvHwv"
      },
      "execution_count": 59,
      "outputs": []
    },
    {
      "cell_type": "markdown",
      "source": [
        "# Feature importance\n"
      ],
      "metadata": {
        "id": "nRm0vj79vIgN"
      }
    },
    {
      "cell_type": "code",
      "source": [
        "import seaborn as sns\n",
        "import matplotlib.pyplot as plt\n",
        "\n",
        "# Select only numeric columns\n",
        "df_numeric = df.select_dtypes(include=['number'])\n",
        "\n",
        "# Compute correlation matrix\n",
        "corr_matrix = df_numeric.corr()\n",
        "\n",
        "# Plot heatmap\n",
        "plt.figure(figsize=(12, 8))\n",
        "sns.heatmap(corr_matrix, annot=False, cmap='coolwarm')\n",
        "plt.show()\n",
        "\n",
        "# Identify highly correlated features (correlation > 0.9)\n",
        "threshold = 0.9\n",
        "high_corr_features = [col for col in corr_matrix.columns if any(corr_matrix[col] > threshold) and col != 'Price']\n",
        "\n",
        "# Drop highly correlated features\n",
        "df.drop(columns=high_corr_features, inplace=True)\n"
      ],
      "metadata": {
        "colab": {
          "base_uri": "https://localhost:8080/",
          "height": 828
        },
        "collapsed": true,
        "id": "1bQgiS1_oaMM",
        "outputId": "b6e8543d-9ff3-4b4f-ec63-bd017b6682e3"
      },
      "execution_count": 60,
      "outputs": [
        {
          "output_type": "display_data",
          "data": {
            "text/plain": [
              "<Figure size 1200x800 with 2 Axes>"
            ],
            "image/png": "[encoded data removed]"
          },
          "metadata": {}
        }
      ]
    },
    {
      "cell_type": "code",
      "source": [
        "print(df.dtypes)\n"
      ],
      "metadata": {
        "colab": {
          "base_uri": "https://localhost:8080/"
        },
        "id": "JUlcAm1Ko7la",
        "outputId": "01ec2fc9-f24e-4d3b-b93e-20923ad73e8c"
      },
      "execution_count": 61,
      "outputs": [
        {
          "output_type": "stream",
          "name": "stdout",
          "text": [
            "Price                                      int64\n",
            "Variant_GT                                  bool\n",
            "Variant_Highline                            bool\n",
            "Variant_LE                                  bool\n",
            "Variant_RXE                                 bool\n",
            "Variant_SE                                  bool\n",
            "Variant_SL                                  bool\n",
            "Variant_XL                                  bool\n",
            "Variant_ZXI                                 bool\n",
            "Fuel Type_Diesel                            bool\n",
            "Fuel Type_Petrol                            bool\n",
            "Transmission Type_Automatic (Tiptronic)     bool\n",
            "Transmission Type_Manual                    bool\n",
            "Body Color_Blue                             bool\n",
            "Body Color_Gold                             bool\n",
            "Body Color_Grey                             bool\n",
            "Body Color_Maroon                           bool\n",
            "Body Color_Red                              bool\n",
            "Body Color_Silver                           bool\n",
            "Body Color_White                            bool\n",
            "dtype: object\n"
          ]
        }
      ]
    },
    {
      "cell_type": "code",
      "source": [],
      "metadata": {
        "id": "0nTzNPAf0ROI"
      },
      "execution_count": 61,
      "outputs": []
    },
    {
      "cell_type": "code",
      "source": [
        "from sklearn.preprocessing import StandardScaler\n",
        "\n",
        "# Initialize the scaler\n",
        "scaler = StandardScaler()\n",
        "\n",
        "# Fit and transform the 'Price' column\n",
        "df['Price'] = scaler.fit_transform(df[['Price']])\n"
      ],
      "metadata": {
        "id": "ziuMBTsPnfDd"
      },
      "execution_count": 62,
      "outputs": []
    },
    {
      "cell_type": "markdown",
      "source": [
        "# Train_ Test Split"
      ],
      "metadata": {
        "id": "Uzip6MZMnfyU"
      }
    },
    {
      "cell_type": "code",
      "source": [
        "# Define features (X) and target (y)\n",
        "X = df.drop(columns=['Price'])\n",
        "y = df['Price']\n",
        "\n",
        "from sklearn.model_selection import train_test_split\n",
        "X_train, X_test, y_train, y_test = train_test_split(X, y, test_size=0.2, random_state=42)\n"
      ],
      "metadata": {
        "id": "AdjAmlHlulk0"
      },
      "execution_count": 63,
      "outputs": []
    },
    {
      "cell_type": "code",
      "source": [
        "from sklearn.decomposition import PCA\n",
        "import numpy as np\n",
        "import matplotlib.pyplot as plt\n",
        "\n",
        "pca = PCA().fit(X_train)  # Fit PCA on training data\n",
        "explained_variance = np.cumsum(pca.explained_variance_ratio_)\n",
        "\n",
        "plt.plot(range(1, len(explained_variance) + 1), explained_variance)\n",
        "plt.xlabel(\"Number of Components\")\n",
        "plt.ylabel(\"Cumulative Explained Variance\")\n",
        "plt.title(\"Explained Variance vs. Number of Components\")\n",
        "plt.grid()\n",
        "plt.show()\n"
      ],
      "metadata": {
        "id": "3gO3QOKN0LW0",
        "colab": {
          "base_uri": "https://localhost:8080/",
          "height": 472
        },
        "outputId": "8e08f1df-bbfd-4a4c-ff06-ffc77a82310c"
      },
      "execution_count": 64,
      "outputs": [
        {
          "output_type": "display_data",
          "data": {
            "text/plain": [
              "<Figure size 640x480 with 1 Axes>"
            ],
            "image/png": "[encoded data removed]"
          },
          "metadata": {}
        }
      ]
    },
    {
      "cell_type": "code",
      "source": [
        "from sklearn.decomposition import PCA\n",
        "\n",
        "# Keep 10 principal components\n",
        "pca = PCA(n_components=10)\n",
        "X_train_pca = pca.fit_transform(X_train)\n",
        "X_test_pca = pca.transform(X_test)\n"
      ],
      "metadata": {
        "id": "J53UxuDy1ICO"
      },
      "execution_count": 65,
      "outputs": []
    },
    {
      "cell_type": "code",
      "source": [],
      "metadata": {
        "id": "qWYnyB1O0hli"
      },
      "execution_count": 65,
      "outputs": []
    },
    {
      "cell_type": "code",
      "source": [
        "from sklearn.decomposition import PCA\n",
        "\n",
        "# Apply PCA\n",
        "pca = PCA(n_components=0.95)\n",
        "df_pca = pca.fit_transform(df)\n",
        "\n",
        "# Convert back to DataFrame\n",
        "df_pca = pd.DataFrame(df_pca)\n",
        "\n",
        "# Confirm shape\n",
        "df_pca.shape\n"
      ],
      "metadata": {
        "colab": {
          "base_uri": "https://localhost:8080/"
        },
        "id": "egFz0wyJnZ18",
        "outputId": "d9f5eceb-9924-45df-dc29-5069f8cd9b68"
      },
      "execution_count": 66,
      "outputs": [
        {
          "output_type": "execute_result",
          "data": {
            "text/plain": [
              "(2500, 17)"
            ]
          },
          "metadata": {},
          "execution_count": 66
        }
      ]
    },
    {
      "cell_type": "code",
      "source": [
        "from sklearn.ensemble import RandomForestRegressor\n",
        "\n",
        "# Train the Random Forest model\n",
        "rf_model = RandomForestRegressor(n_estimators=100, random_state=42)\n",
        "rf_model.fit(X_train, y_train)\n",
        "\n",
        "# Get feature importances\n",
        "import matplotlib.pyplot as plt\n",
        "import seaborn as sns\n",
        "\n",
        "feature_importances = rf_model.feature_importances_\n",
        "sns.barplot(x=feature_importances, y=X_train.columns)\n",
        "plt.title(\"Feature Importance\")\n",
        "plt.show()\n"
      ],
      "metadata": {
        "colab": {
          "base_uri": "https://localhost:8080/",
          "height": 452
        },
        "id": "wG3i7U6dv6tl",
        "outputId": "7e01945c-f0c3-47fb-87e7-3832b0c204dc"
      },
      "execution_count": 67,
      "outputs": [
        {
          "output_type": "display_data",
          "data": {
            "text/plain": [
              "<Figure size 640x480 with 1 Axes>"
            ],
            "image/png": "[encoded data removed]"
          },
          "metadata": {}
        }
      ]
    },
    {
      "cell_type": "code",
      "source": [
        "# Create a DataFrame to match feature names with their importance scores\n",
        "import pandas as pd\n",
        "\n",
        "feature_importance_df = pd.DataFrame({\n",
        "    'Feature': X_train.columns,\n",
        "    'Importance': rf_model.feature_importances_\n",
        "})\n",
        "\n",
        "# Sort features by importance (descending order)\n",
        "feature_importance_df = feature_importance_df.sort_values(by=\"Importance\", ascending=False)\n",
        "\n",
        "# Display the feature importances\n",
        "print(feature_importance_df)\n"
      ],
      "metadata": {
        "colab": {
          "base_uri": "https://localhost:8080/"
        },
        "id": "oai5teseTucf",
        "outputId": "05d67dd7-3098-4fa4-9a88-06f34c3cf5b6"
      },
      "execution_count": 72,
      "outputs": [
        {
          "output_type": "stream",
          "name": "stdout",
          "text": [
            "                                    Feature  Importance\n",
            "9                          Fuel Type_Petrol    0.095700\n",
            "8                          Fuel Type_Diesel    0.086922\n",
            "10  Transmission Type_Automatic (Tiptronic)    0.076714\n",
            "11                 Transmission Type_Manual    0.075558\n",
            "3                               Variant_RXE    0.051557\n",
            "2                                Variant_LE    0.051063\n",
            "0                                Variant_GT    0.049186\n",
            "16                           Body Color_Red    0.048767\n",
            "6                                Variant_XL    0.046669\n",
            "7                               Variant_ZXI    0.046396\n",
            "15                        Body Color_Maroon    0.045351\n",
            "1                          Variant_Highline    0.044558\n",
            "4                                Variant_SE    0.043975\n",
            "13                          Body Color_Gold    0.043563\n",
            "12                          Body Color_Blue    0.043161\n",
            "17                        Body Color_Silver    0.042705\n",
            "18                         Body Color_White    0.037576\n",
            "5                                Variant_SL    0.035915\n",
            "14                          Body Color_Grey    0.034664\n"
          ]
        }
      ]
    },
    {
      "cell_type": "code",
      "source": [
        "df['Price'].describe()\n"
      ],
      "metadata": {
        "colab": {
          "base_uri": "https://localhost:8080/",
          "height": 335
        },
        "id": "Fkq51OX2uONT",
        "outputId": "78d7b14e-39b9-4b4f-adeb-c3c4b6a101ca"
      },
      "execution_count": 68,
      "outputs": [
        {
          "output_type": "execute_result",
          "data": {
            "text/plain": [
              "count    2.500000e+03\n",
              "mean    -1.136868e-16\n",
              "std      1.000200e+00\n",
              "min     -1.765919e+00\n",
              "25%     -8.671918e-01\n",
              "50%      1.684604e-02\n",
              "75%      8.503795e-01\n",
              "max      1.695620e+00\n",
              "Name: Price, dtype: float64"
            ],
            "text/html": [
              "<div>\n",
              "<style scoped>\n",
              "    .dataframe tbody tr th:only-of-type {\n",
              "        vertical-align: middle;\n",
              "    }\n",
              "\n",
              "    .dataframe tbody tr th {\n",
              "        vertical-align: top;\n",
              "    }\n",
              "\n",
              "    .dataframe thead th {\n",
              "        text-align: right;\n",
              "    }\n",
              "</style>\n",
              "<table border=\"1\" class=\"dataframe\">\n",
              "  <thead>\n",
              "    <tr style=\"text-align: right;\">\n",
              "      <th></th>\n",
              "      <th>Price</th>\n",
              "    </tr>\n",
              "  </thead>\n",
              "  <tbody>\n",
              "    <tr>\n",
              "      <th>count</th>\n",
              "      <td>2.500000e+03</td>\n",
              "    </tr>\n",
              "    <tr>\n",
              "      <th>mean</th>\n",
              "      <td>-1.136868e-16</td>\n",
              "    </tr>\n",
              "    <tr>\n",
              "      <th>std</th>\n",
              "      <td>1.000200e+00</td>\n",
              "    </tr>\n",
              "    <tr>\n",
              "      <th>min</th>\n",
              "      <td>-1.765919e+00</td>\n",
              "    </tr>\n",
              "    <tr>\n",
              "      <th>25%</th>\n",
              "      <td>-8.671918e-01</td>\n",
              "    </tr>\n",
              "    <tr>\n",
              "      <th>50%</th>\n",
              "      <td>1.684604e-02</td>\n",
              "    </tr>\n",
              "    <tr>\n",
              "      <th>75%</th>\n",
              "      <td>8.503795e-01</td>\n",
              "    </tr>\n",
              "    <tr>\n",
              "      <th>max</th>\n",
              "      <td>1.695620e+00</td>\n",
              "    </tr>\n",
              "  </tbody>\n",
              "</table>\n",
              "</div><br><label><b>dtype:</b> float64</label>"
            ]
          },
          "metadata": {},
          "execution_count": 68
        }
      ]
    },
    {
      "cell_type": "code",
      "source": [
        "# Select only the top 8 most important features\n",
        "top_features = [\n",
        "    \"Fuel Type_Petrol\", \"Fuel Type_Diesel\",\n",
        "    \"Transmission Type_Automatic (Tiptronic)\", \"Transmission Type_Manual\",\n",
        "    \"Variant_RXE\", \"Variant_LE\", \"Variant_GT\", \"Body Color_Red\"\n",
        "]\n",
        "\n",
        "X_train_selected = X_train[top_features]\n",
        "X_test_selected = X_test[top_features]\n"
      ],
      "metadata": {
        "id": "5_7QbrMzVTD9"
      },
      "execution_count": 84,
      "outputs": []
    },
    {
      "cell_type": "markdown",
      "source": [
        "# Model Selection and Evaluation"
      ],
      "metadata": {
        "id": "Zj4XcAppnw5B"
      }
    },
    {
      "cell_type": "code",
      "source": [
        "# from sklearn.linear_model import LinearRegression\n",
        "# from sklearn.ensemble import RandomForestRegressor\n",
        "# from sklearn.metrics import mean_absolute_error, mean_squared_error\n",
        "\n",
        "# # Train Linear Regression model\n",
        "# lr = LinearRegression()\n",
        "# lr.fit(X_train, y_train)\n",
        "# y_pred_lr = lr.predict(X_test)\n",
        "\n",
        "# # Train Random Forest model\n",
        "# rf = RandomForestRegressor(n_estimators=100, random_state=42)\n",
        "# rf.fit(X_train, y_train)\n",
        "# y_pred_rf = rf.predict(X_test)\n",
        "\n",
        "# # Evaluate models\n",
        "# def evaluate_model(y_true, y_pred, model_name):\n",
        "#     print(f\"{model_name} Performance:\")\n",
        "#     print(f\"Mean Absolute Error: {mean_absolute_error(y_true, y_pred):.2f}\")\n",
        "#     print(f\"Mean Squared Error: {mean_squared_error(y_true, y_pred):.2f}\")\n",
        "#     # print(f\"Root Mean Squared Error: {mean_squared_error(y_true, y_pred, squared=False):.2f}\")\n",
        "#     print(\"-\" * 50)\n",
        "\n",
        "# evaluate_model(y_test, y_pred_lr, \"Linear Regression\")\n",
        "# evaluate_model(y_test, y_pred_rf, \"Random Forest\")\n"
      ],
      "metadata": {
        "colab": {
          "base_uri": "https://localhost:8080/"
        },
        "id": "AyCAQz7mn10u",
        "outputId": "4d3999b3-9995-4a62-c325-d8c3606f4dff"
      },
      "execution_count": 69,
      "outputs": [
        {
          "output_type": "stream",
          "name": "stdout",
          "text": [
            "Linear Regression Performance:\n",
            "Mean Absolute Error: 0.89\n",
            "Mean Squared Error: 1.04\n",
            "--------------------------------------------------\n",
            "Random Forest Performance:\n",
            "Mean Absolute Error: 0.96\n",
            "Mean Squared Error: 1.31\n",
            "--------------------------------------------------\n"
          ]
        }
      ]
    },
    {
      "cell_type": "code",
      "source": [
        "# Train Random Forest with selected features\n",
        "rf_model_selected = RandomForestRegressor(n_estimators=10,max_depth=3, random_state=42)\n",
        "rf_model_selected.fit(X_train_selected, y_train)\n",
        "\n",
        "# Make predictions\n",
        "y_pred_selected = rf_model_selected.predict(X_test_selected)\n"
      ],
      "metadata": {
        "id": "JcQ7eZqRUdm1"
      },
      "execution_count": 101,
      "outputs": []
    },
    {
      "cell_type": "code",
      "source": [
        "from sklearn.metrics import mean_absolute_error, mean_squared_error\n",
        "\n",
        "mae = mean_absolute_error(y_test, y_pred_selected)\n",
        "mse = mean_squared_error(y_test, y_pred_selected)\n",
        "\n",
        "print(f\"Mean Absolute Error: {mae:.4f}\")\n",
        "print(f\"Mean Squared Error: {mse:.4f}\")\n"
      ],
      "metadata": {
        "colab": {
          "base_uri": "https://localhost:8080/"
        },
        "id": "pVCJeSTKUnS8",
        "outputId": "9ba86122-d2f5-4191-8730-8887c87d29aa"
      },
      "execution_count": 102,
      "outputs": [
        {
          "output_type": "stream",
          "name": "stdout",
          "text": [
            "Mean Absolute Error: 0.8921\n",
            "Mean Squared Error: 1.0426\n"
          ]
        }
      ]
    },
    {
      "cell_type": "code",
      "source": [
        "print(y_train.describe())\n"
      ],
      "metadata": {
        "colab": {
          "base_uri": "https://localhost:8080/"
        },
        "id": "0Kb5ZrHgsNCV",
        "outputId": "35f3677c-fcca-4043-e98f-68339b8dd6ce"
      },
      "execution_count": 70,
      "outputs": [
        {
          "output_type": "stream",
          "name": "stdout",
          "text": [
            "count    2000.000000\n",
            "mean        0.008822\n",
            "std         0.995236\n",
            "min        -1.765919\n",
            "25%        -0.836060\n",
            "50%         0.034655\n",
            "75%         0.863631\n",
            "max         1.695620\n",
            "Name: Price, dtype: float64\n"
          ]
        }
      ]
    },
    {
      "cell_type": "code",
      "source": [],
      "metadata": {
        "id": "bCg-0_O8sq7K"
      },
      "execution_count": 70,
      "outputs": []
    },
    {
      "cell_type": "markdown",
      "source": [
        "# Hyperparameter tuning"
      ],
      "metadata": {
        "id": "HAW-zEdPvZQR"
      }
    },
    {
      "cell_type": "code",
      "source": [
        "from sklearn.ensemble import GradientBoostingRegressor\n",
        "\n",
        "gb_model = GradientBoostingRegressor(n_estimators=10, learning_rate=0.05, max_depth=3, random_state=42)\n",
        "gb_model.fit(X_train_selected, y_train)\n",
        "\n",
        "y_pred_gb = gb_model.predict(X_test_selected)\n",
        "\n",
        "mae_gb = mean_absolute_error(y_test, y_pred_gb)\n",
        "mse_gb = mean_squared_error(y_test, y_pred_gb)\n",
        "\n",
        "print(f\"Gradient Boosting - MAE: {mae_gb:.4f}, MSE: {mse_gb:.4f}\")\n"
      ],
      "metadata": {
        "colab": {
          "base_uri": "https://localhost:8080/"
        },
        "id": "XiXOm2qRWHHj",
        "outputId": "0e88cd15-b774-4a26-825a-53f56e86d0cd"
      },
      "execution_count": 109,
      "outputs": [
        {
          "output_type": "stream",
          "name": "stdout",
          "text": [
            "Gradient Boosting - MAE: 0.8913, MSE: 1.0391\n"
          ]
        }
      ]
    },
    {
      "cell_type": "code",
      "source": [],
      "metadata": {
        "id": "j4JtoX5rWHmD"
      },
      "execution_count": null,
      "outputs": []
    }
  ]
}